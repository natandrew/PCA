{
 "cells": [
  {
   "cell_type": "code",
   "execution_count": 1,
   "id": "9274a04b-6a54-4e14-b3fc-5651e5544518",
   "metadata": {},
   "outputs": [],
   "source": [
    "from sklearn import datasets\n",
    "from sklearn.preprocessing import StandardScaler\n",
    "import numpy as np\n",
    "from numpy.linalg import eig"
   ]
  },
  {
   "cell_type": "code",
   "execution_count": 2,
   "id": "7574e068-a13a-4f76-b931-9d2c3370c277",
   "metadata": {},
   "outputs": [],
   "source": [
    "iris = datasets.load_iris()\n",
    "data = iris.data\n",
    "target = iris.target"
   ]
  },
  {
   "cell_type": "code",
   "execution_count": 3,
   "id": "3ad25f1f-34a5-49e6-98de-a0604634e627",
   "metadata": {},
   "outputs": [],
   "source": [
    "#Standardization \n",
    "std = StandardScaler()\n",
    "scaled = std.fit_transform(data)"
   ]
  },
  {
   "cell_type": "code",
   "execution_count": 4,
   "id": "8041fa6b-2e1c-4b72-b579-e9b2ce0844f4",
   "metadata": {},
   "outputs": [],
   "source": [
    "# Covariance matrix\n",
    "covm = np.cov(scaled, rowvar=False)"
   ]
  },
  {
   "cell_type": "code",
   "execution_count": 5,
   "id": "af86229a-63cc-4070-b2b1-b34cb5e76ec1",
   "metadata": {},
   "outputs": [],
   "source": [
    "#Eigenvectors\n",
    "eigval, eigvect = eig(covm)\n",
    "idx = np.argsort(eigval)[::-1]\n",
    "sorted_eigval = eigval[idx]\n",
    "sorted_eigvect = eigvect[:, idx]\n",
    "\n",
    "#Explained variance ratios\n",
    "var_ratio = sorted_eigval / sorted_eigval.sum()"
   ]
  },
  {
   "cell_type": "code",
   "execution_count": 6,
   "id": "8f6077dd-827b-4ab0-a9c0-fcd4ba9f239c",
   "metadata": {},
   "outputs": [
    {
     "name": "stdin",
     "output_type": "stream",
     "text": [
      " 2\n"
     ]
    }
   ],
   "source": [
    "#Feature vector\n",
    "k = int(input())\n",
    "features = sorted_eigvect[:, :k]"
   ]
  },
  {
   "cell_type": "code",
   "execution_count": 7,
   "id": "bc64b2ea-50b0-4f50-8bb4-8966f581fb54",
   "metadata": {},
   "outputs": [
    {
     "name": "stdout",
     "output_type": "stream",
     "text": [
      "Explained variance ratio: [0.72962445 0.22850762]\n"
     ]
    }
   ],
   "source": [
    "#Data projection\n",
    "final_data = scaled.dot(features)\n",
    "\n",
    "print(\"Explained variance ratio:\", var_ratio[:k])"
   ]
  }
 ],
 "metadata": {
  "kernelspec": {
   "display_name": "Python 3 (ipykernel)",
   "language": "python",
   "name": "python3"
  },
  "language_info": {
   "codemirror_mode": {
    "name": "ipython",
    "version": 3
   },
   "file_extension": ".py",
   "mimetype": "text/x-python",
   "name": "python",
   "nbconvert_exporter": "python",
   "pygments_lexer": "ipython3",
   "version": "3.12.11"
  }
 },
 "nbformat": 4,
 "nbformat_minor": 5
}
